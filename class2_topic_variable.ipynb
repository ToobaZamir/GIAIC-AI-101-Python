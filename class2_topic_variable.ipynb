{
  "nbformat": 4,
  "nbformat_minor": 0,
  "metadata": {
    "colab": {
      "provenance": []
    },
    "kernelspec": {
      "name": "python3",
      "display_name": "Python 3"
    },
    "language_info": {
      "name": "python"
    }
  },
  "cells": [
    {
      "cell_type": "code",
      "execution_count": null,
      "metadata": {
        "id": "y6CR3FvGkkJJ",
        "colab": {
          "base_uri": "https://localhost:8080/"
        },
        "outputId": "b0f1c4d9-9586-446e-f43c-670393774804"
      },
      "outputs": [
        {
          "output_type": "stream",
          "name": "stdout",
          "text": [
            "sarim\n",
            "rafay\n"
          ]
        }
      ],
      "source": [
        "a=\"sarim\"\n",
        "b=\"rafay\"\n",
        "print(a)\n",
        "print(b)"
      ]
    },
    {
      "cell_type": "code",
      "source": [
        "# variable overwrite\n",
        "a=\"rafay\"\n",
        "b=\"hashim\"\n",
        "print(a,b)\n",
        "b=\"sarim\"\n",
        "print(a,b)"
      ],
      "metadata": {
        "colab": {
          "base_uri": "https://localhost:8080/"
        },
        "id": "xLvQcKJDFYaA",
        "outputId": "54c91238-73a6-4956-df26-556c2adc0bb5"
      },
      "execution_count": null,
      "outputs": [
        {
          "output_type": "stream",
          "name": "stdout",
          "text": [
            "rafay hashim\n",
            "rafay sarim\n"
          ]
        }
      ]
    },
    {
      "cell_type": "markdown",
      "source": [
        "CASTING**\n",
        "\n",
        "---\n",
        "\n",
        "\n",
        "\n",
        "string,integer,float division"
      ],
      "metadata": {
        "id": "nqhe4VzhHK6T"
      }
    },
    {
      "cell_type": "code",
      "source": [
        "x=str(3)\n",
        "xy=int(4)\n",
        "xyz=float(5)\n",
        "print(x)  #str\n",
        "print(xy)  #int\n",
        "print(xyz)  #float"
      ],
      "metadata": {
        "colab": {
          "base_uri": "https://localhost:8080/"
        },
        "id": "zzKGZRuYHM2L",
        "outputId": "ef265291-c5c2-466e-c255-358d72512473"
      },
      "execution_count": null,
      "outputs": [
        {
          "output_type": "stream",
          "name": "stdout",
          "text": [
            "3\n",
            "4\n",
            "5.0\n"
          ]
        }
      ]
    },
    {
      "cell_type": "markdown",
      "source": [
        "variable with different data type\n",
        "  .  str\n",
        "  . int\n",
        "  . float"
      ],
      "metadata": {
        "id": "yzRyDCVjH6Xx"
      }
    },
    {
      "cell_type": "code",
      "source": [
        "name:str=\"tooba\" #STRING\n",
        "print(name)"
      ],
      "metadata": {
        "colab": {
          "base_uri": "https://localhost:8080/"
        },
        "id": "_xKalWjsH-hi",
        "outputId": "1c2a88ea-4deb-42f1-ea2f-bd098b11dcc1"
      },
      "execution_count": null,
      "outputs": [
        {
          "output_type": "stream",
          "name": "stdout",
          "text": [
            "tooba\n"
          ]
        }
      ]
    },
    {
      "cell_type": "code",
      "source": [
        "number:int=6   #INTEGER\n",
        "print(number)"
      ],
      "metadata": {
        "colab": {
          "base_uri": "https://localhost:8080/"
        },
        "id": "4YXU44HCIc7b",
        "outputId": "623fad45-2daf-4547-d35f-5a15067c3e9c"
      },
      "execution_count": null,
      "outputs": [
        {
          "output_type": "stream",
          "name": "stdout",
          "text": [
            "6\n"
          ]
        }
      ]
    },
    {
      "cell_type": "code",
      "source": [
        "number=float(8)    #float\n",
        "print(number)\n"
      ],
      "metadata": {
        "colab": {
          "base_uri": "https://localhost:8080/"
        },
        "id": "gvV-rafKIvLu",
        "outputId": "4b458349-833b-4d95-a544-ba0e278438f7"
      },
      "execution_count": null,
      "outputs": [
        {
          "output_type": "stream",
          "name": "stdout",
          "text": [
            "8.0\n"
          ]
        }
      ]
    }
  ]
}