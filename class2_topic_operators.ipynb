{
  "nbformat": 4,
  "nbformat_minor": 0,
  "metadata": {
    "colab": {
      "provenance": []
    },
    "kernelspec": {
      "name": "python3",
      "display_name": "Python 3"
    },
    "language_info": {
      "name": "python"
    }
  },
  "cells": [
    {
      "cell_type": "markdown",
      "source": [
        "***ARITHMETIC*** ***OPERATORS***\n",
        "\n",
        "---\n",
        "\n",
        "\n",
        "\n",
        "---\n",
        "Addition\n",
        "Subtraction\n",
        "Multiplication\n",
        "Division\n",
        "Modulus\n",
        "Exponentiation\n",
        "Floor division\n"
      ],
      "metadata": {
        "id": "ZWObx-jrc2zC"
      }
    },
    {
      "cell_type": "code",
      "execution_count": 5,
      "metadata": {
        "colab": {
          "base_uri": "https://localhost:8080/"
        },
        "id": "u5MqFhECRgbu",
        "outputId": "311bbc77-ae4f-428e-defd-708d0cf6d2a3"
      },
      "outputs": [
        {
          "output_type": "stream",
          "name": "stdout",
          "text": [
            "26\n",
            "22\n",
            "12.0\n",
            "48\n"
          ]
        }
      ],
      "source": [
        "a:int=24\n",
        "b:int=2\n",
        "print(a+b)    #addition\n",
        "print(a-b)    #subtraction\n",
        "print(a/b)    #division\n",
        "print(a*b)    #mutiplication"
      ]
    },
    {
      "cell_type": "code",
      "source": [
        "a:int=5\n",
        "b:int=8\n",
        "print(a*b)    #multiplication\n",
        "print(a**b)    #exponentiation   same as 5*5*5*5*5*5*5*5"
      ],
      "metadata": {
        "colab": {
          "base_uri": "https://localhost:8080/"
        },
        "id": "49YxLJ1bXsTW",
        "outputId": "cdd1c948-a370-4141-b2d7-a820e1b4ef80"
      },
      "execution_count": 4,
      "outputs": [
        {
          "output_type": "stream",
          "name": "stdout",
          "text": [
            "40\n",
            "390625\n"
          ]
        }
      ]
    },
    {
      "cell_type": "code",
      "source": [
        "#the floor division // rounds the result down to the nearest whole number\n",
        "x:int=8\n",
        "y:int=5\n",
        "print(x//y)     #floor division"
      ],
      "metadata": {
        "colab": {
          "base_uri": "https://localhost:8080/"
        },
        "id": "chN6ZY1aZHBF",
        "outputId": "4ffe7820-ed79-4b65-c95b-98b07d6fde36"
      },
      "execution_count": 7,
      "outputs": [
        {
          "output_type": "stream",
          "name": "stdout",
          "text": [
            "1\n"
          ]
        }
      ]
    },
    {
      "cell_type": "code",
      "source": [
        "print(5%9)     #modulus or remainder\n",
        "print(4%3)"
      ],
      "metadata": {
        "colab": {
          "base_uri": "https://localhost:8080/"
        },
        "id": "II8_PdCfbl5c",
        "outputId": "b5748c3d-8f8f-4624-c1b1-d7e529843481"
      },
      "execution_count": 9,
      "outputs": [
        {
          "output_type": "stream",
          "name": "stdout",
          "text": [
            "5\n",
            "1\n"
          ]
        }
      ]
    },
    {
      "cell_type": "markdown",
      "source": [
        "**2**.**ASSIGNMENT** **OPERATOR**\n",
        "Assignment operator is = , which simply assigns the value of the right-hand operand to the left-hand operand.\n"
      ],
      "metadata": {
        "id": "EpJp2NcDdueb"
      }
    },
    {
      "cell_type": "code",
      "source": [
        "# Assign\n",
        "a:int=8\n",
        "b:int=4\n",
        "c:int=4\n",
        "print(b+c+a)"
      ],
      "metadata": {
        "colab": {
          "base_uri": "https://localhost:8080/"
        },
        "id": "rbzTEpUkhMUE",
        "outputId": "47b31bcd-8c59-4453-ada9-044e37c65a21"
      },
      "execution_count": 10,
      "outputs": [
        {
          "output_type": "stream",
          "name": "stdout",
          "text": [
            "16\n"
          ]
        }
      ]
    },
    {
      "cell_type": "code",
      "source": [
        "# +=\n",
        "a:int=6\n",
        "a+=2\n",
        "print(a)"
      ],
      "metadata": {
        "colab": {
          "base_uri": "https://localhost:8080/"
        },
        "id": "KnzQb2S9hYpy",
        "outputId": "43cc0b5d-3468-49b9-fac1-7fa0fa19fe5c"
      },
      "execution_count": 17,
      "outputs": [
        {
          "output_type": "stream",
          "name": "stdout",
          "text": [
            "8\n"
          ]
        }
      ]
    },
    {
      "cell_type": "code",
      "source": [
        "# -=\n",
        "a:int=8\n",
        "a-=2\n",
        "print(a)"
      ],
      "metadata": {
        "colab": {
          "base_uri": "https://localhost:8080/"
        },
        "id": "iZNC23RxhjGq",
        "outputId": "09db4182-c952-459d-ca05-c11741d1a923"
      },
      "execution_count": 16,
      "outputs": [
        {
          "output_type": "stream",
          "name": "stdout",
          "text": [
            "6\n"
          ]
        }
      ]
    },
    {
      "cell_type": "code",
      "source": [
        "#*=\n",
        "A:int=7\n",
        "A*=12\n",
        "print(A)\n"
      ],
      "metadata": {
        "colab": {
          "base_uri": "https://localhost:8080/"
        },
        "id": "ThyCN5EIhuYY",
        "outputId": "b8001060-4056-41d7-9740-c4ea3e463afd"
      },
      "execution_count": 15,
      "outputs": [
        {
          "output_type": "stream",
          "name": "stdout",
          "text": [
            "84\n"
          ]
        }
      ]
    },
    {
      "cell_type": "code",
      "source": [
        "# /=\n",
        "c=30\n",
        "c/=5\n",
        "print(c)"
      ],
      "metadata": {
        "colab": {
          "base_uri": "https://localhost:8080/"
        },
        "id": "0rCSOIjGjRu4",
        "outputId": "ed4d0f35-363e-4fbc-f658-bde1d6d8637c"
      },
      "execution_count": 20,
      "outputs": [
        {
          "output_type": "stream",
          "name": "stdout",
          "text": [
            "6.0\n"
          ]
        }
      ]
    },
    {
      "cell_type": "code",
      "source": [
        "#%=\n",
        "g=55\n",
        "g%=10\n",
        "print(g)\n"
      ],
      "metadata": {
        "colab": {
          "base_uri": "https://localhost:8080/"
        },
        "id": "3NQtUfA6kBlt",
        "outputId": "80d2b375-a7f1-4928-bf48-8cd5d2858cdb"
      },
      "execution_count": 22,
      "outputs": [
        {
          "output_type": "stream",
          "name": "stdout",
          "text": [
            "5\n"
          ]
        }
      ]
    },
    {
      "cell_type": "code",
      "source": [
        "# **=\n",
        "h=12\n",
        "h**=4\n",
        "print(h)"
      ],
      "metadata": {
        "colab": {
          "base_uri": "https://localhost:8080/"
        },
        "id": "Zo95W-t8kSsj",
        "outputId": "bf9fe46e-f955-495a-c81d-2560cc3091d9"
      },
      "execution_count": 23,
      "outputs": [
        {
          "output_type": "stream",
          "name": "stdout",
          "text": [
            "20736\n"
          ]
        }
      ]
    },
    {
      "cell_type": "markdown",
      "source": [
        "*** Comparison Operators***\n",
        "\n",
        "---\n",
        "\n",
        "\n",
        "Comparison operators are used to compare two values:\n",
        "\n"
      ],
      "metadata": {
        "id": "r82vireekyd-"
      }
    },
    {
      "cell_type": "code",
      "source": [
        "x:int=25\n",
        "y:int=40\n",
        "print(x==y)    #equal to\n",
        "print(y!=x)    #not equal to\n",
        "print(x>y)     #greater than\n",
        "print(y>x)\n",
        "print(x<y)     #less than\n",
        "print(y<x)\n",
        "print(x>=y)    #greater than or equal to\n",
        "print(x<=y)    #less than or equal to"
      ],
      "metadata": {
        "colab": {
          "base_uri": "https://localhost:8080/"
        },
        "id": "yeSfK7LCk8Dh",
        "outputId": "b0b4f918-3ce4-40c8-8f27-b30842d3a9f0"
      },
      "execution_count": 24,
      "outputs": [
        {
          "output_type": "stream",
          "name": "stdout",
          "text": [
            "False\n",
            "True\n",
            "False\n",
            "True\n",
            "True\n",
            "False\n",
            "False\n",
            "True\n"
          ]
        }
      ]
    },
    {
      "cell_type": "markdown",
      "source": [
        "***Logical Operators***\n",
        "\n",
        "---\n",
        "\n",
        "\n",
        "Logical operators are used to combine conditional statements:"
      ],
      "metadata": {
        "id": "FELpFAiKmycA"
      }
    },
    {
      "cell_type": "markdown",
      "source": [
        "AND"
      ],
      "metadata": {
        "id": "Ve-CxgrboV4H"
      }
    },
    {
      "cell_type": "code",
      "source": [
        "x=5\n",
        "print(x>2 and x<8)          #Returns True if both statements are true\n",
        "print(x>4 and x<3)          #Return flase if one statement is incorrect"
      ],
      "metadata": {
        "colab": {
          "base_uri": "https://localhost:8080/"
        },
        "id": "vzwQcI2cmy3S",
        "outputId": "56183733-eb06-4737-c467-356e45f0f04c"
      },
      "execution_count": 39,
      "outputs": [
        {
          "output_type": "stream",
          "name": "stdout",
          "text": [
            "True\n",
            "False\n"
          ]
        }
      ]
    },
    {
      "cell_type": "markdown",
      "source": [
        "OR"
      ],
      "metadata": {
        "id": "e2aRwHVmoZxE"
      }
    },
    {
      "cell_type": "code",
      "source": [
        "x=5\n",
        "print(x>3 or x<4)            #Returns True if one of the statements is true\n",
        "print(x>6 or x<4)"
      ],
      "metadata": {
        "colab": {
          "base_uri": "https://localhost:8080/"
        },
        "id": "fdoSeYy1nXYl",
        "outputId": "310dd452-41a5-4de9-9faf-bb431539bbcf"
      },
      "execution_count": 40,
      "outputs": [
        {
          "output_type": "stream",
          "name": "stdout",
          "text": [
            "True\n",
            "False\n"
          ]
        }
      ]
    },
    {
      "cell_type": "markdown",
      "source": [
        "NOT"
      ],
      "metadata": {
        "id": "cP6IV8N6ocZ5"
      }
    },
    {
      "cell_type": "code",
      "source": [
        "x=5                         #Reverse the result, returns False if the result is true\n",
        "print(not(x>3 and x<10))\n",
        "print(not(x>6 and x<4))"
      ],
      "metadata": {
        "colab": {
          "base_uri": "https://localhost:8080/"
        },
        "id": "fuC2s0INnWuS",
        "outputId": "fe3ea323-0e30-4da8-e713-3bbdf9fbb5c4"
      },
      "execution_count": 41,
      "outputs": [
        {
          "output_type": "stream",
          "name": "stdout",
          "text": [
            "False\n",
            "True\n"
          ]
        }
      ]
    }
  ]
}